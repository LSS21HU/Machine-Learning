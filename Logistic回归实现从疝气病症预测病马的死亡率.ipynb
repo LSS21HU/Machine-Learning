{
 "cells": [
  {
   "cell_type": "markdown",
   "metadata": {},
   "source": [
    "# Logistic回归实现从疝气病症预测病马的死亡率"
   ]
  },
  {
   "cell_type": "markdown",
   "metadata": {},
   "source": [
    "    （1）收集数据：给定数据集\n",
    "    （2）准备数据：用Python解析文本文件，并填充缺失值\n",
    "    （3）分析数据：可视化并观察数据\n",
    "    （4）训练算法：使用优化算法，找到最佳系数\n",
    "    （5）测试算法：为了量化回归的效果，需要观察错误率。根据错误率决定是否退回到训练阶段，通过改变迭代的次数和步长等参数来得到更好的回归系数。\n",
    "    （6）使用算法：实现一个简单的命令行程序来收集马的症状并输出预测结果。"
   ]
  },
  {
   "cell_type": "code",
   "execution_count": 1,
   "metadata": {},
   "outputs": [],
   "source": [
    "import numpy as np\n",
    "def stocGradAscent1(dataMatrix,classLabels,numIter=150):\n",
    "    m,n = np.shape(dataMatrix)\n",
    "    weights = np.ones(n)\n",
    "    for i in range(numIter):\n",
    "        dataIndex = list(range(m))\n",
    "        for j in range(m):\n",
    "            alpha = 4/(1.0+j+i)+0.01\n",
    "            randIndex = int(np.random.uniform(0,len(dataIndex)))\n",
    "            h = sigmoid(sum(dataMatrix[randIndex]*weights))\n",
    "            error = classLabels[randIndex]-h\n",
    "            weights = weights+alpha*error*dataMatrix[randIndex]\n",
    "            del(dataIndex[randIndex])\n",
    "    return weights"
   ]
  },
  {
   "cell_type": "code",
   "execution_count": 2,
   "metadata": {},
   "outputs": [],
   "source": [
    "def sigmoid(inX):\n",
    "    return 1.0/(1+np.exp(-inX))"
   ]
  },
  {
   "cell_type": "code",
   "execution_count": 3,
   "metadata": {},
   "outputs": [],
   "source": [
    "def classifierVector(inX,weights):\n",
    "    prob = sigmoid(sum(inX*weights))\n",
    "    if prob>0.5:\n",
    "        return 1.0\n",
    "    else:\n",
    "        return 0.0"
   ]
  },
  {
   "cell_type": "code",
   "execution_count": 4,
   "metadata": {},
   "outputs": [],
   "source": [
    "def colicTest():\n",
    "    frTrain = open('D:\\AGAME\\MachineLearning\\machinelearninginaction\\Ch05/horseColicTraining.txt')\n",
    "    frTest = open('D:\\AGAME\\MachineLearning\\machinelearninginaction\\Ch05/horseColicTest.txt')\n",
    "    trainingSet = [];trainingLabels=[]\n",
    "    for line in frTrain.readlines():\n",
    "        currLine=line.strip().split('\\t')\n",
    "        lineArr=[]\n",
    "        for i in range(21):\n",
    "            lineArr.append(float(currLine[i]))\n",
    "        trainingSet.append(lineArr)\n",
    "        trainingLabels.append(float(currLine[21]))\n",
    "    trainWeights = stocGradAscent1(np.array(trainingSet), trainingLabels, 1000)\n",
    "    errorCount=0;numTestVec = 0.0\n",
    "    for line in frTest.readlines():\n",
    "        numTestVec += 1.0\n",
    "        currLine = line.strip().split('\\t')\n",
    "        lineArr = []\n",
    "        for i in range(21):\n",
    "            lineArr.append(float(currLine[i]))\n",
    "        if int(classifierVector(np.array(lineArr), trainWeights)) != int(currLine[21]):\n",
    "            errorCount += 1\n",
    "    errorRate = (float(errorCount)/numTestVec)\n",
    "    print(\"the error rate of this test is:%f\"%errorRate)\n",
    "    return errorRate      "
   ]
  },
  {
   "cell_type": "code",
   "execution_count": 5,
   "metadata": {},
   "outputs": [],
   "source": [
    "def multiTest():\n",
    "    numTests = 10;errorSum = 0.0\n",
    "    for k in range(numTests):\n",
    "        errorSum += colicTest()\n",
    "    print(\"after %d iterations the average error rate is:%f\"%(numTests,errorSum/float(numTests)))    "
   ]
  },
  {
   "cell_type": "code",
   "execution_count": 6,
   "metadata": {},
   "outputs": [
    {
     "name": "stderr",
     "output_type": "stream",
     "text": [
      "D:\\ASoftWare\\PYTHON3\\lib\\site-packages\\ipykernel_launcher.py:2: RuntimeWarning: overflow encountered in exp\n",
      "  \n"
     ]
    },
    {
     "name": "stdout",
     "output_type": "stream",
     "text": [
      "the error rate of this test is:0.313433\n",
      "the error rate of this test is:0.358209\n",
      "the error rate of this test is:0.402985\n",
      "the error rate of this test is:0.358209\n",
      "the error rate of this test is:0.298507\n",
      "the error rate of this test is:0.402985\n",
      "the error rate of this test is:0.343284\n",
      "the error rate of this test is:0.388060\n",
      "the error rate of this test is:0.298507\n",
      "the error rate of this test is:0.313433\n",
      "after 10 iterations the average error rate is:0.347761\n"
     ]
    }
   ],
   "source": [
    "multiTest()"
   ]
  }
 ],
 "metadata": {
  "kernelspec": {
   "display_name": "Python 3",
   "language": "python",
   "name": "python3"
  },
  "language_info": {
   "codemirror_mode": {
    "name": "ipython",
    "version": 3
   },
   "file_extension": ".py",
   "mimetype": "text/x-python",
   "name": "python",
   "nbconvert_exporter": "python",
   "pygments_lexer": "ipython3",
   "version": "3.6.4"
  }
 },
 "nbformat": 4,
 "nbformat_minor": 2
}
