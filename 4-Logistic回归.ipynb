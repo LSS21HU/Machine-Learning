{
 "cells": [
  {
   "cell_type": "markdown",
   "metadata": {},
   "source": [
    "# logistic回归"
   ]
  },
  {
   "cell_type": "markdown",
   "metadata": {},
   "source": [
    "1.利用Logistic回归进行分类的主要思想是：根据现有的数据对分类的主要思想：根据现有数据对分类界限建立回归公式，以此进行分类。\n",
    "\n",
    "    这里的“回归”一词主要源于最佳拟合，表示要找到最佳拟合参数集。训练分类器时的做法就是找到最佳拟合参数，使用的是最优化算法。\n",
    "    \n",
    "    最优化算法包括基本的：梯度上升法和一个改进的随机梯度上升法。\n",
    "    \n",
    "    下面介绍的是“二值型”输出分类器的数学原理。"
   ]
  },
  {
   "cell_type": "markdown",
   "metadata": {},
   "source": [
    "2.Logistic回归的一般过程\n",
    "\n",
    "    (1)收集数据：采用任意方法收集数据。\n",
    "    (2)准备数据：由于需要进行距离计算，因此要求数据类型为数值型。另外，结构化数据格式则最佳。\n",
    "    (3)分析数据：采用任意方法对数据进行分析。\n",
    "    (4)**训练算法：大部分时间将用于训练，训练的目的是为了找到最佳分类的回归系数。（寻找最佳拟合参数，最优化算法）\n",
    "    (5)测试算法：一旦训练步骤完成，分类将会很快\n",
    "    (6)使用算法：首先，我们需要输入一些数据，并将其转换成对应的结构化数值；接着，基于训练好的回归系数就可以对这些数值进行简单的回归计算，判定它们属于哪个类别；在这之后，我们就可以在输出的类别上做一些其他分析工作。"
   ]
  },
  {
   "cell_type": "markdown",
   "metadata": {},
   "source": [
    "3.基于Logistic回归和Sigmoid函数的分类\n",
    "\n",
    "    优点：计算代价不高，易于理解和实现\n",
    "    缺点：容易欠拟合，分类精度可能不高\n",
    "    适用数据类型：数值型和标称型数据\n",
    "    \n",
    "    sigmoid函数：\n",
    "    f(z) = 1/(1+exp(-z)),\n",
    "    z = w0x0+w1x1+w2x2+....+wnxn,也记做z=wTx,  其中x为分类器的输入数据，向量w为我们寻找的最佳参数，从而使得分类器尽可能的精准。"
   ]
  },
  {
   "cell_type": "markdown",
   "metadata": {},
   "source": [
    "4.基于最优化方法的最佳回归系数确定"
   ]
  },
  {
   "cell_type": "markdown",
   "metadata": {},
   "source": [
    "4.1 梯度上升法\n",
    "\n",
    "    梯度上升法基于的思想是：要找到某函数的最大值，最好的方法就是沿着该函数的梯度方向探寻。\n",
    "    w := w+alpha*f'(w)\n",
    "\n",
    "    梯度下降法：w := w-alpha*f'(w)\n",
    "    \n",
    "    梯度上升法的伪代码：\n",
    "    每个回归系数初始化为1\n",
    "    重复R次：\n",
    "        计算整个数据集的梯度\n",
    "        使用alpha*gradient更新回归系数的向量\n",
    "        返回回归系数\n",
    "     \n",
    "    全部计算完之后再整体更新"
   ]
  },
  {
   "cell_type": "code",
   "execution_count": 1,
   "metadata": {},
   "outputs": [],
   "source": [
    "import numpy as np\n",
    "def loadDataSet():\n",
    "    dataMat=[];labelMat=[]\n",
    "    fr = open('D:\\AGAME\\MachineLearning\\machinelearninginaction\\Ch05/testSet.txt')\n",
    "    for line in fr.readlines():\n",
    "        lineArr = line.strip().split()\n",
    "        dataMat.append([1.0,float(lineArr[0]),float(lineArr[1])])\n",
    "        labelMat.append(int(lineArr[2]))\n",
    "    return dataMat,labelMat\n",
    "def sigmoid(inX):\n",
    "    return 1.0/(1+np.exp(-inX))"
   ]
  },
  {
   "cell_type": "code",
   "execution_count": 2,
   "metadata": {},
   "outputs": [],
   "source": [
    "def gradAsccent(dataMatIn,classLabels):\n",
    "    dataMatrix = np.mat(dataMatIn)\n",
    "    labelMat = np.mat(classLabels).transpose()#转换成numpy矩阵，之前是向量。transpose()为转置\n",
    "    m,n = np.shape(dataMatIn)\n",
    "    alpha = 0.001#步长\n",
    "    maxCycles = 500 #循环次数\n",
    "    weights = np.ones((n,1)) #初始化\n",
    "    for k in range(maxCycles):\n",
    "        h = sigmoid(dataMatrix*weights)\n",
    "        error = (labelMat-h)\n",
    "        weights = weights+alpha*dataMatrix.transpose()*error\n",
    "    return weights"
   ]
  },
  {
   "cell_type": "code",
   "execution_count": 3,
   "metadata": {},
   "outputs": [
    {
     "name": "stdout",
     "output_type": "stream",
     "text": [
      "[[ 4.12414349]\n",
      " [ 0.48007329]\n",
      " [-0.6168482 ]]\n"
     ]
    }
   ],
   "source": [
    "dataMat,labelMat = loadDataSet()\n",
    "weights = gradAsccent(dataMat,labelMat)\n",
    "print(weights)"
   ]
  },
  {
   "cell_type": "markdown",
   "metadata": {},
   "source": [
    "4.2分析数据：画出决策边界"
   ]
  },
  {
   "cell_type": "code",
   "execution_count": 4,
   "metadata": {},
   "outputs": [],
   "source": [
    "import matplotlib.pyplot as plt\n",
    "def plotBestFit(weights):\n",
    "    dataMat,labelMat = loadDataSet()\n",
    "    dataArr = np.array(dataMat)\n",
    "    n = np.shape(dataArr)[0]\n",
    "    xcord1=[];ycord1=[]\n",
    "    xcord2=[];ycord2=[]\n",
    "    for i in range(n):\n",
    "        if int(labelMat[i]) == 1:\n",
    "            xcord1.append(dataArr[i,1]);ycord1.append(dataArr[i,2])\n",
    "        else:\n",
    "            xcord2.append(dataArr[i,1]);ycord2.append(dataArr[i,2])\n",
    "    fig = plt.figure()\n",
    "    ax = fig.add_subplot(111)\n",
    "    ax.scatter(xcord1,ycord1,s=30,c='red',marker='s')\n",
    "    ax.scatter(xcord2,ycord2,s=30,c='green')\n",
    "    x = np.arange(-3.0, 3.0, 0.1)\n",
    "    y = (-weights[0]-weights[1]*x)/weights[2]\n",
    "    ax.plot(x, y)\n",
    "    plt.xlabel('X1');plt.ylabel('X2')\n",
    "    plt.show()"
   ]
  },
  {
   "cell_type": "code",
   "execution_count": 5,
   "metadata": {},
   "outputs": [
    {
     "data": {
      "image/png": "[encoded data removed]",
      "text/plain": [
       "<matplotlib.figure.Figure at 0x26f354eddd8>"
      ]
     },
     "metadata": {},
     "output_type": "display_data"
    }
   ],
   "source": [
    "dataMat,labelMat = loadDataSet()\n",
    "weights = gradAsccent(dataMat,labelMat)\n",
    "weights = weights.getA() #将矩阵转换为数组，如果不转，矩阵中的元素无法取出\n",
    "plotBestFit(weights)"
   ]
  },
  {
   "cell_type": "markdown",
   "metadata": {},
   "source": [
    "4.3训练算法：随机梯度上升\n",
    "    \n",
    "    梯度上升算法在每次更新回归参数时都需要遍历整个数据集。\n",
    "    改进的方法是：一次仅用一个样本点来更新参数，该方法称为随机梯度上升算法。由于可以在新样本到来时对分类器进行增量式更新，因而随机梯度上升算法是一个在线学习算法。与“在线学习”相对应，一次处理所有数据被称为“批处理”。\n",
    "    \n",
    "    随机梯度上升算法的伪代码：\n",
    "    对所有的回归系数初始化为1\n",
    "    对数据集中每个样本\n",
    "        计算该样本的梯度\n",
    "        使用alpha*gradient更新回归参数\n",
    "    返回回归系数"
   ]
  },
  {
   "cell_type": "code",
   "execution_count": 6,
   "metadata": {},
   "outputs": [],
   "source": [
    "def stocGradAscent0(dataMatrix,classLabels):\n",
    "    m,n = np.shape(dataMatrix)\n",
    "    alpha = 0.01\n",
    "    weights = np.ones(n)\n",
    "    for i in range(m):\n",
    "        h = sigmoid(sum(dataMatrix[i]*weights))\n",
    "        error = classLabels[i]-h\n",
    "        weights = weights+alpha*error*dataMatrix[i]\n",
    "    return weights"
   ]
  },
  {
   "cell_type": "code",
   "execution_count": 7,
   "metadata": {},
   "outputs": [
    {
     "data": {
      "image/png": "[encoded data removed]",
      "text/plain": [
       "<matplotlib.figure.Figure at 0x26f363b6940>"
      ]
     },
     "metadata": {},
     "output_type": "display_data"
    }
   ],
   "source": [
    "dataMatrix,classLabels = loadDataSet()\n",
    "weights = stocGradAscent0(np.array(dataMatrix),classLabels)\n",
    "plotBestFit(weights)"
   ]
  },
  {
   "cell_type": "markdown",
   "metadata": {},
   "source": [
    "4.4改进的随机梯度上升算法"
   ]
  },
  {
   "cell_type": "code",
   "execution_count": 8,
   "metadata": {},
   "outputs": [],
   "source": [
    "def stocGradAscent1(dataMatrix,classLabels,numIter=150):\n",
    "    m,n = np.shape(dataMatrix)\n",
    "    weights = np.ones(n)\n",
    "    for j in range(numIter):\n",
    "        dataIndex = list(range(m))\n",
    "        for i in range(m):\n",
    "            alpha = 4/(1.0+j+i)+0.01 #alpha在每次迭代时都会调整\n",
    "            randIndex = int(np.random.uniform(0,len(dataIndex)))\n",
    "            h = sigmoid(sum(dataMatrix[randIndex]*weights))\n",
    "            error = classLabels[randIndex]-h\n",
    "            weights = weights+alpha*error*dataMatrix[randIndex]\n",
    "            del(dataIndex[randIndex])\n",
    "    return weights"
   ]
  },
  {
   "cell_type": "code",
   "execution_count": 9,
   "metadata": {},
   "outputs": [
    {
     "data": {
      "image/png": "[encoded data removed]",
      "text/plain": [
       "<matplotlib.figure.Figure at 0x26f364655f8>"
      ]
     },
     "metadata": {},
     "output_type": "display_data"
    }
   ],
   "source": [
    "dataMatrix,classLabels = loadDataSet()\n",
    "weights = stocGradAscent1(np.array(dataMatrix),classLabels)\n",
    "plotBestFit(weights)"
   ]
  },
  {
   "cell_type": "markdown",
   "metadata": {},
   "source": [
    "5.从疝气病症预测病马的死亡率\n",
    "\n",
    "    （1）收集数据：给定数据集\n",
    "    （2）准备数据：用Python解析文本文件，并填充缺失值\n",
    "    （3）分析数据：可视化并观察数据\n",
    "    （4）训练算法：使用优化算法，找到最佳系数\n",
    "    （5）测试算法：为了量化回归的效果，需要观察错误率。根据错误率决定是否退回到训练阶段，通过改变迭代的次数和步长等参数来得到更好的回归系数。\n",
    "    （6）使用算法：实现一个简单的命令行程序来收集马的症状并输出预测结果。"
   ]
  },
  {
   "cell_type": "markdown",
   "metadata": {},
   "source": [
    "5.1准备数据：处理数据中的缺失值\n",
    "\n",
    "    对于数据之中的缺失值，有下面一些可选的做法：\n",
    "    1.使用可用特征的均值来填补缺失值\n",
    "    2.使用特殊值来填补缺失值，如-1\n",
    "    3.忽略有缺失值的样本\n",
    "    4.使用相似样本的均值来填补缺失值\n",
    "    5.使用另外的机器学习算法预测缺失值"
   ]
  },
  {
   "cell_type": "markdown",
   "metadata": {},
   "source": [
    "5.2测试算法：用Logistic回归进行分类"
   ]
  },
  {
   "cell_type": "code",
   "execution_count": 10,
   "metadata": {},
   "outputs": [],
   "source": [
    "def classifierVector(inX,weights):\n",
    "    prob = sigmoid(sum(inX*weights))\n",
    "    if prob>0.5:\n",
    "        return 1.0\n",
    "    else:\n",
    "        return 0.0"
   ]
  },
  {
   "cell_type": "code",
   "execution_count": 11,
   "metadata": {},
   "outputs": [],
   "source": [
    "def colicTest():\n",
    "    frTrain = open('D:\\AGAME\\MachineLearning\\machinelearninginaction\\Ch05/horseColicTraining.txt')\n",
    "    frTest = open('D:\\AGAME\\MachineLearning\\machinelearninginaction\\Ch05/horseColicTest.txt')\n",
    "    trainingSet = [];trainingLabels=[]\n",
    "    for line in frTrain.readlines():\n",
    "        currLine=line.strip().split('\\t')\n",
    "        lineArr=[]\n",
    "        for i in range(21):\n",
    "            lineArr.append(float(currLine[i]))\n",
    "        trainingSet.append(lineArr)\n",
    "        trainingLabels.append(float(currLine[21]))\n",
    "    trainWeights = stocGradAscent1(np.array(trainingSet), trainingLabels, 1000)\n",
    "    errorCount=0;numTestVec = 0.0\n",
    "    for line in frTest.readlines():\n",
    "        numTestVec += 1.0\n",
    "        currLine = line.strip().split('\\t')\n",
    "        lineArr = []\n",
    "        for i in range(21):\n",
    "            lineArr.append(float(currLine[i]))\n",
    "        if int(classifierVector(np.array(lineArr), trainWeights)) != int(currLine[21]):\n",
    "            errorCount += 1\n",
    "    errorRate = (float(errorCount)/numTestVec)\n",
    "    print(\"the error rate of this test is:%f\"%errorRate)\n",
    "    return errorRate      "
   ]
  },
  {
   "cell_type": "code",
   "execution_count": 12,
   "metadata": {},
   "outputs": [],
   "source": [
    "def multiTest():\n",
    "    numTests = 10;errorSum = 0.0\n",
    "    for k in range(numTests):\n",
    "        errorSum += colicTest()\n",
    "    print(\"after %d iterations the average error rate is:%f\"%(numTests,errorSum/float(numTests)))    "
   ]
  },
  {
   "cell_type": "code",
   "execution_count": 13,
   "metadata": {},
   "outputs": [
    {
     "name": "stderr",
     "output_type": "stream",
     "text": [
      "D:\\ASoftWare\\PYTHON3\\lib\\site-packages\\ipykernel_launcher.py:11: RuntimeWarning: overflow encountered in exp\n",
      "  # This is added back by InteractiveShellApp.init_path()\n"
     ]
    },
    {
     "name": "stdout",
     "output_type": "stream",
     "text": [
      "the error rate of this test is:0.358209\n",
      "the error rate of this test is:0.417910\n",
      "the error rate of this test is:0.432836\n",
      "the error rate of this test is:0.343284\n",
      "the error rate of this test is:0.373134\n",
      "the error rate of this test is:0.328358\n",
      "the error rate of this test is:0.268657\n",
      "the error rate of this test is:0.283582\n",
      "the error rate of this test is:0.507463\n",
      "the error rate of this test is:0.358209\n",
      "after 10 iterations the average error rate is:0.367164\n"
     ]
    }
   ],
   "source": [
    "multiTest()"
   ]
  }
 ],
 "metadata": {
  "kernelspec": {
   "display_name": "Python 3",
   "language": "python",
   "name": "python3"
  },
  "language_info": {
   "codemirror_mode": {
    "name": "ipython",
    "version": 3
   },
   "file_extension": ".py",
   "mimetype": "text/x-python",
   "name": "python",
   "nbconvert_exporter": "python",
   "pygments_lexer": "ipython3",
   "version": "3.6.4"
  }
 },
 "nbformat": 4,
 "nbformat_minor": 2
}
