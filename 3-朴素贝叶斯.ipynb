{
 "cells": [
  {
   "cell_type": "markdown",
   "metadata": {},
   "source": [
    "# 朴素贝叶斯"
   ]
  },
  {
   "cell_type": "markdown",
   "metadata": {},
   "source": [
    "（1）基于朴素贝叶斯理论的分类方法\n",
    "\n",
    "    优点：在数据较少的情况下，可以处理多类别问题\n",
    "    缺点：对于输入数据的准备方式较为敏感\n",
    "    适用数据类型：标称型数据"
   ]
  },
  {
   "cell_type": "markdown",
   "metadata": {},
   "source": [
    "（2）贝叶斯决策理论的核心思想：选择具有最高概率的决策\n",
    "\n",
    "    假设 p1(x,y)表示数据点(x,y)属于类别1，p2(x,y)表示数据点属于类别2\n",
    "    如果 p1(x,y)>p2(x,y)，那么类别为1\n",
    "    如果 p2(x,y)>p1(x,y)，那么类别为2\n",
    "    \n",
    "        这里p1(),p2()是为了简述，实际上为 p(c1|x,y),p(c2|x,y)(条件概率):意思为给点某个由想x，y表示的数据点，那么该数据点来着类别ci的概率是多少\n",
    "                             p(c|x,y)=p(x,y|c)*p(c)/p(x,y)\n",
    "        使用这些定义，可以定义朴素贝叶斯准则为：\n",
    "        如果 p(c1|x,y)>p(c2|x,y)，那么属于类别c1\n",
    "        如果 p(c2|x,y)>p(c1|x,y)，那么属于类别c2"
   ]
  },
  {
   "cell_type": "markdown",
   "metadata": {},
   "source": [
    "（3）朴素贝叶斯的一般过程：\n",
    "\n",
    "    （1）收集数据：可以使用任何方法。本章使用RSS源\n",
    "    （2）准备数据：需要数值型或者布尔型数据\n",
    "    （3）分析数据：有大量特征时，绘制特征作用不大，此时使用直方图效果更好\n",
    "    （4）训练算法：计算不同的独立特征的条件概率\n",
    "    （5）测试算法：计算错误率\n",
    "    （6）使用算法：一个常见的朴素贝叶斯应该是文档分类。可以在任意的分类场景中使用朴素贝叶斯分类器，不一定是文本"
   ]
  },
  {
   "cell_type": "markdown",
   "metadata": {},
   "source": [
    "（4）朴素贝叶斯的两个假设：\n",
    "\n",
    "    （1）特征之间相互独立\n",
    "    （2）每个特征同等重要"
   ]
  },
  {
   "cell_type": "markdown",
   "metadata": {},
   "source": [
    "    例子：根据社区留言板上的单词，判断该条留言为侮辱类还是非侮辱类，分别用1和0表示"
   ]
  },
  {
   "cell_type": "markdown",
   "metadata": {},
   "source": [
    "3.1 准备数据，从文本中构建单词向量"
   ]
  },
  {
   "cell_type": "code",
   "execution_count": 1,
   "metadata": {},
   "outputs": [],
   "source": [
    "#词表到向量的转换函数\n",
    "def loadDataSet():\n",
    "    postingList = [['my', 'dog', 'has', 'flea', 'problems', 'help', 'please'],\n",
    "                   ['maybe', 'not', 'take', 'him', 'to', 'dog', 'park', 'stupid'],\n",
    "                   ['my', 'dalmation', 'is', 'so', 'cute', 'I', 'love', 'him'],\n",
    "                   ['stop', 'posting', 'stupid', 'worthless', 'garbage'],\n",
    "                   ['mr', 'licks', 'ate', 'my', 'steak', 'how', 'to', 'stop', 'him'],\n",
    "                   ['quit', 'buying', 'worthless', 'dog', 'food', 'stupid']]\n",
    "    classVec = [0,1,0,1,0,1] #1代表侮辱性文字，0代表正常言论\n",
    "    return postingList,classVec\n",
    "\n",
    "def createVocabList(dataSet):\n",
    "    vocabSet = set([])\n",
    "    for document in dataSet:\n",
    "        vocabSet = vocabSet|set(document) #求并集\n",
    "    return list(vocabSet)\n",
    " \n",
    "#判断给定句子中的单词是否在单词表中出现\n",
    "def setOfWords2Vec(vocabList,inputSet):\n",
    "    returnVec = [0]*len(vocabList)\n",
    "    for word in inputSet:\n",
    "        if word in vocabList:\n",
    "            returnVec[vocabList.index(word)] = 1\n",
    "        else:\n",
    "            print(\"the word %s is not in my Vocabulary!\"%word)\n",
    "    return returnVec"
   ]
  },
  {
   "cell_type": "code",
   "execution_count": 2,
   "metadata": {},
   "outputs": [
    {
     "name": "stdout",
     "output_type": "stream",
     "text": [
      "[['my', 'dog', 'has', 'flea', 'problems', 'help', 'please'], ['maybe', 'not', 'take', 'him', 'to', 'dog', 'park', 'stupid'], ['my', 'dalmation', 'is', 'so', 'cute', 'I', 'love', 'him'], ['stop', 'posting', 'stupid', 'worthless', 'garbage'], ['mr', 'licks', 'ate', 'my', 'steak', 'how', 'to', 'stop', 'him'], ['quit', 'buying', 'worthless', 'dog', 'food', 'stupid']]\n",
      "[0, 1, 0, 1, 0, 1]\n",
      "['flea', 'take', 'to', 'garbage', 'help', 'not', 'how', 'problems', 'quit', 'please', 'maybe', 'I', 'licks', 'buying', 'food', 'him', 'is', 'park', 'stupid', 'ate', 'love', 'cute', 'worthless', 'posting', 'mr', 'has', 'my', 'steak', 'stop', 'so', 'dalmation', 'dog']\n",
      "[1, 0, 0, 0, 1, 0, 0, 1, 0, 1, 0, 0, 0, 0, 0, 0, 0, 0, 0, 0, 0, 0, 0, 0, 0, 1, 1, 0, 0, 0, 0, 1]\n"
     ]
    }
   ],
   "source": [
    "postingList,classVec = loadDataSet()\n",
    "print(postingList)\n",
    "print(classVec)\n",
    "myVocabList= createVocabList(postingList)\n",
    "print(myVocabList)\n",
    "returnVec = setOfWords2Vec(myVocabList,postingList[0])\n",
    "print(returnVec)"
   ]
  },
  {
   "cell_type": "markdown",
   "metadata": {},
   "source": [
    "3.2 训练算法：从词向量计算概率\n",
    "\n",
    "    1.利用朴素贝叶斯进行分类时，要计算多个概率乘积获得文档属于哪个类别。即计算p(w0|ci)P(w1|ci)p(w2|ci)...。如果其中一个概率值为0，最后结果也为0，为避免出现这种影响。我们将分子初始化为1，分母初始化为2\n",
    "    2.另一个问题是下溢出，原因是因为很多很小的数相乘。所以，这里我们选择取对数，并且有 In(a*b) = Ina+Inb"
   ]
  },
  {
   "cell_type": "code",
   "execution_count": 3,
   "metadata": {},
   "outputs": [],
   "source": [
    "\n",
    "from numpy import *\n",
    "#trainMatrix:文档矩阵，trainCategory:由每篇文档类别标签所构成的向量\n",
    "\n",
    "def trainNB(trainMatrix, trainCategory):\n",
    "    numTrainDocs = len(trainMatrix)\n",
    "    numWords = len(trainMatrix[0])\n",
    "    pAbusive = sum(trainCategory)/float(numTrainDocs)\n",
    "    p0Num = ones(numWords); p1Num = ones(numWords)      #change to np.ones()\n",
    "    p0Denom = 2.0; p1Denom = 2.0                        #change to 2.0\n",
    "    for i in range(numTrainDocs):\n",
    "        if trainCategory[i] == 1:\n",
    "            p1Num += trainMatrix[i]\n",
    "            p1Denom += sum(trainMatrix[i])\n",
    "        else:\n",
    "            p0Num += trainMatrix[i]\n",
    "            p0Denom += sum(trainMatrix[i])\n",
    "    p1Vect = log(p1Num/p1Denom)          #change to np.log()\n",
    "    p0Vect = log(p0Num/p0Denom)          #change to np.log()\n",
    "    return p0Vect, p1Vect, pAbusive"
   ]
  },
  {
   "cell_type": "code",
   "execution_count": 4,
   "metadata": {},
   "outputs": [
    {
     "name": "stdout",
     "output_type": "stream",
     "text": [
      "[[1, 0, 0, 0, 1, 0, 0, 1, 0, 1, 0, 0, 0, 0, 0, 0, 0, 0, 0, 0, 0, 0, 0, 0, 0, 1, 1, 0, 0, 0, 0, 1], [0, 1, 1, 0, 0, 1, 0, 0, 0, 0, 1, 0, 0, 0, 0, 1, 0, 1, 1, 0, 0, 0, 0, 0, 0, 0, 0, 0, 0, 0, 0, 1], [0, 0, 0, 0, 0, 0, 0, 0, 0, 0, 0, 1, 0, 0, 0, 1, 1, 0, 0, 0, 1, 1, 0, 0, 0, 0, 1, 0, 0, 1, 1, 0], [0, 0, 0, 1, 0, 0, 0, 0, 0, 0, 0, 0, 0, 0, 0, 0, 0, 0, 1, 0, 0, 0, 1, 1, 0, 0, 0, 0, 1, 0, 0, 0], [0, 0, 1, 0, 0, 0, 1, 0, 0, 0, 0, 0, 1, 0, 0, 1, 0, 0, 0, 1, 0, 0, 0, 0, 1, 0, 1, 1, 1, 0, 0, 0], [0, 0, 0, 0, 0, 0, 0, 0, 1, 0, 0, 0, 0, 1, 1, 0, 0, 0, 1, 0, 0, 0, 1, 0, 0, 0, 0, 0, 0, 0, 0, 1]]\n",
      "[-2.56494936 -3.25809654 -2.56494936 -3.25809654 -2.56494936 -3.25809654\n",
      " -2.56494936 -2.56494936 -3.25809654 -2.56494936 -3.25809654 -2.56494936\n",
      " -2.56494936 -3.25809654 -3.25809654 -2.15948425 -2.56494936 -3.25809654\n",
      " -3.25809654 -2.56494936 -2.56494936 -2.56494936 -3.25809654 -3.25809654\n",
      " -2.56494936 -2.56494936 -1.87180218 -2.56494936 -2.56494936 -2.56494936\n",
      " -2.56494936 -2.56494936]\n",
      "[-3.04452244 -2.35137526 -2.35137526 -2.35137526 -3.04452244 -2.35137526\n",
      " -3.04452244 -3.04452244 -2.35137526 -3.04452244 -2.35137526 -3.04452244\n",
      " -3.04452244 -2.35137526 -2.35137526 -2.35137526 -3.04452244 -2.35137526\n",
      " -1.65822808 -3.04452244 -3.04452244 -3.04452244 -1.94591015 -2.35137526\n",
      " -3.04452244 -3.04452244 -3.04452244 -3.04452244 -2.35137526 -3.04452244\n",
      " -3.04452244 -1.94591015]\n",
      "0.5\n"
     ]
    }
   ],
   "source": [
    "postingList,classVec = loadDataSet()\n",
    "myVocabList= createVocabList(postingList)\n",
    "trainMat = []\n",
    "for postinDoc in postingList:\n",
    "    trainMat.append(setOfWords2Vec(myVocabList,postinDoc))\n",
    "print(trainMat)\n",
    "p0Vect,p1Vect,pAbusive = trainNB(trainMat,classVec)\n",
    "print(p0Vect)\n",
    "print(p1Vect)\n",
    "print(pAbusive)\n"
   ]
  },
  {
   "cell_type": "markdown",
   "metadata": {},
   "source": [
    "3.3 测试算法：根据现实情况修改分类器"
   ]
  },
  {
   "cell_type": "markdown",
   "metadata": {},
   "source": [
    "朴素贝叶斯分类函数"
   ]
  },
  {
   "cell_type": "code",
   "execution_count": 5,
   "metadata": {},
   "outputs": [],
   "source": [
    "#vec2Classify要分类向量\n",
    "def classifyNB(vec2Classify,p0Vec,p1Vec,pClass1):\n",
    "    #根据朴素贝叶斯分类函数分别计算待分类文档属于类1和类0的概率\n",
    "    p1=sum(vec2Classify*p1Vec)+log(pClass1)\n",
    "    p0=sum(vec2Classify*p0Vec)+log(1.0-pClass1)\n",
    "    if p1>p0:\n",
    "        return 1\n",
    "    else:\n",
    "        return 0\n",
    "    \n",
    "def testingNB():\n",
    "    listOPosts,listClasses = loadDataSet()\n",
    "    myVocabLlist = createVocabList(listOPosts)\n",
    "    trainMat = []\n",
    "    for postinDoc in listOPosts:\n",
    "        trainMat.append(setOfWords2Vec(myVocabList,postinDoc))\n",
    "    p0V,p1V,pAb = trainNB(array(trainMat),array(listClasses))\n",
    "    testEntry = ['love','my','dalmation']\n",
    "    thisDoc = array(setOfWords2Vec(myVocabList,testEntry))\n",
    "    print(testEntry,'classified as :',classifyNB(thisDoc,p0V,p1V,pAb))\n",
    "    testEntry = ['stupid','garbage']\n",
    "    thisDoc = array(setOfWords2Vec(myVocabList,testEntry))\n",
    "    print(testEntry,'classified as :',classifyNB(thisDoc,p0V,p1V,pAb))"
   ]
  },
  {
   "cell_type": "code",
   "execution_count": 6,
   "metadata": {},
   "outputs": [
    {
     "name": "stdout",
     "output_type": "stream",
     "text": [
      "['love', 'my', 'dalmation'] classified as : 0\n",
      "['stupid', 'garbage'] classified as : 1\n"
     ]
    }
   ],
   "source": [
    "testingNB()"
   ]
  },
  {
   "cell_type": "markdown",
   "metadata": {},
   "source": [
    "3.4 准备模型：文档词袋模型\n",
    "\n",
    "    之前我们将每个词出现的是否出现作为特征，这可以被描述为词集模型。\n",
    "    如果一个词在文档中出现不止一次，这可能意味着包含该词是否出现在文档中所不能到达的某种信息，这种方法称为词袋模型。\n",
    "    在词袋中每个单词可以出现多次，而词集中每个词只能出现一次"
   ]
  },
  {
   "cell_type": "code",
   "execution_count": 7,
   "metadata": {},
   "outputs": [],
   "source": [
    "def bagOfWords2VecMN(vocabList,inputSet):\n",
    "    returnVec = [0]*len(vocabList)\n",
    "    for word in inputSet:\n",
    "        if word in vocabList:\n",
    "            returnVec[vocabList.index(word)] += 1\n",
    "    return returnVec"
   ]
  },
  {
   "cell_type": "markdown",
   "metadata": {},
   "source": [
    "3.5 使用朴素贝叶斯进行垃圾分类\n",
    "\n",
    "    （1）收集数据：提供文本文件\n",
    "    （2）准备数据：将文本文件解析为词条向量\n",
    "    （3）分析数据：检查词条确保解析的正确性\n",
    "    （4）训练算法：使用之前建立的trainNB0（）函数\n",
    "    （5）测试算法：使用classifyNB()，并且构建一个新的测试函数来计算文档集的错误率\n",
    "    （6）使用算法：构建一个完整的程序对一组文档进行分类，将错分的文档输出到屏幕上。"
   ]
  },
  {
   "cell_type": "markdown",
   "metadata": {},
   "source": [
    "测试算法：使用朴素贝叶斯进行交叉验证"
   ]
  },
  {
   "cell_type": "code",
   "execution_count": 8,
   "metadata": {},
   "outputs": [],
   "source": [
    "#切分文本\n",
    "def textParse(bigString):\n",
    "    import re\n",
    "    listOfTokens = re.split(r'\\W+',bigString)\n",
    "    return [tok.lower() for tok in listOfTokens if len(tok)>2]\n",
    "    listOfTokens = re.split(r'\\W+',bigString)"
   ]
  },
  {
   "cell_type": "code",
   "execution_count": 9,
   "metadata": {},
   "outputs": [],
   "source": [
    "def spamTest():\n",
    "    docList = []; classList = []; fullText = []\n",
    "    for i in range(1, 26):\n",
    "        wordList = textParse(open('D:\\\\AGAME\\\\MachineLearning\\\\email\\\\spam/%d.txt'%i,encoding='ISO-8859-1').read())\n",
    "        docList.append(wordList)\n",
    "        fullText.extend(wordList)\n",
    "        classList.append(1)\n",
    "        wordList = textParse(open('D:\\\\AGAME\\\\MachineLearning\\\\email\\\\ham/%d.txt'%i,encoding='ISO-8859-1').read())\n",
    "        docList.append(wordList)\n",
    "        fullText.extend(wordList)\n",
    "        classList.append(0)\n",
    "    vocabList = createVocabList(docList)#create vocabulary\n",
    "    trainingSet = range(50); testSet = []           #create test set\n",
    "    for i in range(10):\n",
    "        randIndex = int(random.uniform(0, len(trainingSet)))\n",
    "        testSet.append(trainingSet[randIndex])\n",
    "        del(list(trainingSet)[randIndex])\n",
    "    trainMat = []; trainClasses = []\n",
    "    for docIndex in trainingSet:#train the classifier (get probs) trainNB0\n",
    "        trainMat.append(bagOfWords2VecMN(vocabList, docList[docIndex]))\n",
    "        trainClasses.append(classList[docIndex])\n",
    "    p0V, p1V, pSpam = trainNB(array(trainMat),array(trainClasses))\n",
    "    errorCount = 0\n",
    "    for docIndex in testSet:        #classify the remaining items\n",
    "        wordVector = bagOfWords2VecMN(vocabList, docList[docIndex])\n",
    "        if classifyNB(array(wordVector), p0V, p1V, pSpam) != classList[docIndex]:\n",
    "            errorCount += 1\n",
    "            print(\"classification error\", docList[docIndex])\n",
    "    print('the error rate is: ', float(errorCount)/len(testSet))"
   ]
  },
  {
   "cell_type": "code",
   "execution_count": 10,
   "metadata": {},
   "outputs": [
    {
     "name": "stdout",
     "output_type": "stream",
     "text": [
      "the error rate is:  0.0\n"
     ]
    }
   ],
   "source": [
    "spamTest()"
   ]
  }
 ],
 "metadata": {
  "kernelspec": {
   "display_name": "Python 3",
   "language": "python",
   "name": "python3"
  },
  "language_info": {
   "codemirror_mode": {
    "name": "ipython",
    "version": 3
   },
   "file_extension": ".py",
   "mimetype": "text/x-python",
   "name": "python",
   "nbconvert_exporter": "python",
   "pygments_lexer": "ipython3",
   "version": "3.6.4"
  }
 },
 "nbformat": 4,
 "nbformat_minor": 2
}
